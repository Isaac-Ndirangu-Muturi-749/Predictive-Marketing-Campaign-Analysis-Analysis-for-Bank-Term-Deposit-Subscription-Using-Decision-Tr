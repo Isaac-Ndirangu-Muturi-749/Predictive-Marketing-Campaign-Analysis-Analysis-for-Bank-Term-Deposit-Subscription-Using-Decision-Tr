{
 "cells": [
  {
   "cell_type": "markdown",
   "id": "f34cedc7",
   "metadata": {},
   "source": [
    "Here are the steps we'll follow:\n",
    "\n",
    "1. Data Loading: Download and load the dataset from the provided link.\n",
    "2. Data Exploration and Preprocessing: Explore the dataset to understand its structure, missing values, and data types. Perform any necessary preprocessing steps.\n",
    "3. Feature Selection: Select relevant features that could influence the purchasing decision.\n",
    "4. Data Splitting: Split the dataset into training and testing subsets.\n",
    "5. Model Building: Build a decision tree classifier using libraries like scikit-learn.\n",
    "6. Model Training: Train the decision tree classifier using the training data.\n",
    "7. Model Evaluation: Evaluate the model's performance using metrics like accuracy, precision, recall, and F1-score on the testing data.\n",
    "8.  Visualizing the Decision Tree: Visualize the decision tree to understand its decision-making process.\n",
    "9. Interpretation: Interpret the results and insights gained from the decision tree."
   ]
  },
  {
   "cell_type": "code",
   "execution_count": 2,
   "id": "7112797e",
   "metadata": {},
   "outputs": [
    {
     "name": "stdout",
     "output_type": "stream",
     "text": [
      "Preview of bank-full.csv:\n",
      "   age           job  marital  education default  balance housing loan  \\\n",
      "0   58    management  married   tertiary      no     2143     yes   no   \n",
      "1   44    technician   single  secondary      no       29     yes   no   \n",
      "2   33  entrepreneur  married  secondary      no        2     yes  yes   \n",
      "3   47   blue-collar  married    unknown      no     1506     yes   no   \n",
      "4   33       unknown   single    unknown      no        1      no   no   \n",
      "\n",
      "   contact  day month  duration  campaign  pdays  previous poutcome   y  \n",
      "0  unknown    5   may       261         1     -1         0  unknown  no  \n",
      "1  unknown    5   may       151         1     -1         0  unknown  no  \n",
      "2  unknown    5   may        76         1     -1         0  unknown  no  \n",
      "3  unknown    5   may        92         1     -1         0  unknown  no  \n",
      "4  unknown    5   may       198         1     -1         0  unknown  no  \n",
      "\n",
      "Preview of bank-additional.csv:\n",
      "   age          job  marital          education default  housing     loan  \\\n",
      "0   30  blue-collar  married           basic.9y      no      yes       no   \n",
      "1   39     services   single        high.school      no       no       no   \n",
      "2   25     services  married        high.school      no      yes       no   \n",
      "3   38     services  married           basic.9y      no  unknown  unknown   \n",
      "4   47       admin.  married  university.degree      no      yes       no   \n",
      "\n",
      "     contact month day_of_week  ...  campaign  pdays  previous     poutcome  \\\n",
      "0   cellular   may         fri  ...         2    999         0  nonexistent   \n",
      "1  telephone   may         fri  ...         4    999         0  nonexistent   \n",
      "2  telephone   jun         wed  ...         1    999         0  nonexistent   \n",
      "3  telephone   jun         fri  ...         3    999         0  nonexistent   \n",
      "4   cellular   nov         mon  ...         1    999         0  nonexistent   \n",
      "\n",
      "  emp.var.rate  cons.price.idx  cons.conf.idx  euribor3m  nr.employed   y  \n",
      "0         -1.8          92.893          -46.2      1.313       5099.1  no  \n",
      "1          1.1          93.994          -36.4      4.855       5191.0  no  \n",
      "2          1.4          94.465          -41.8      4.962       5228.1  no  \n",
      "3          1.4          94.465          -41.8      4.959       5228.1  no  \n",
      "4         -0.1          93.200          -42.0      4.191       5195.8  no  \n",
      "\n",
      "[5 rows x 21 columns]\n"
     ]
    }
   ],
   "source": [
    "import pandas as pd\n",
    "\n",
    "def load_and_preview_datasets():\n",
    "    # Load the datasets\n",
    "    bank_full = pd.read_csv(\"data/bank/bank-full.csv\", delimiter=\";\")\n",
    "    bank_additional = pd.read_csv(\"data/bank-additional/bank-additional/bank-additional.csv\", delimiter=\";\")\n",
    "\n",
    "    # Display the first few rows of each dataset\n",
    "    print(\"Preview of bank-full.csv:\")\n",
    "    print(bank_full.head())\n",
    "\n",
    "    print(\"\\nPreview of bank-additional.csv:\")\n",
    "    print(bank_additional.head())\n",
    "\n",
    "# Call the function to load and preview the datasets\n",
    "load_and_preview_datasets()\n"
   ]
  },
  {
   "cell_type": "markdown",
   "id": "64f2b243",
   "metadata": {},
   "source": [
    "describe the results from the preview of the two datasets.\n",
    "\n",
    "1. bank-full.csv:\n",
    "\n",
    "This dataset contains information related to a marketing campaign conducted by a bank. Here are some key points about the dataset:\n",
    "\n",
    "The dataset has several columns that provide information about bank clients, the last contact of the current campaign, and other attributes.\n",
    "Some columns include information like age, job, marital status, education, credit default status, balance, housing loan, personal loan, contact communication type, last contact day and month, last contact duration, number of contacts performed, and more.\n",
    "The target variable (\"y\") represents whether a client subscribed to a term deposit (\"yes\" or \"no\").\n",
    "The dataset includes a total of 45211 instances (rows) and 17 attributes (columns).\n",
    "2. bank-additional.csv:\n",
    "\n",
    "This dataset is an extension of the previous \"bank-full.csv\" dataset, with additional social and economic context attributes. Here are some key points about this dataset:\n",
    "\n",
    "Similar to the previous dataset, this one also includes information about bank clients and the marketing campaign.\n",
    "It includes additional social and economic attributes like employment variation rate, consumer price index, consumer confidence index, euribor 3-month rate, and number of employees.\n",
    "These context attributes provide more information about the economic environment during the marketing campaign.\n",
    "The target variable (\"y\") still represents whether a client subscribed to a term deposit (\"yes\" or \"no\").\n",
    "The dataset includes a total of 41188 instances (rows) and 21 attributes (columns)."
   ]
  },
  {
   "cell_type": "code",
   "execution_count": null,
   "id": "ea5d36dc",
   "metadata": {},
   "outputs": [],
   "source": []
  },
  {
   "cell_type": "code",
   "execution_count": null,
   "id": "17ebde7e",
   "metadata": {},
   "outputs": [],
   "source": []
  },
  {
   "cell_type": "code",
   "execution_count": null,
   "id": "a21a3197",
   "metadata": {},
   "outputs": [],
   "source": []
  },
  {
   "cell_type": "code",
   "execution_count": null,
   "id": "52b5438e",
   "metadata": {},
   "outputs": [],
   "source": []
  },
  {
   "cell_type": "markdown",
   "id": "5661a776",
   "metadata": {},
   "source": [
    "![thanks](images/thankyouimage.png)"
   ]
  }
 ],
 "metadata": {
  "kernelspec": {
   "display_name": "learn-env",
   "language": "python",
   "name": "learn-env"
  },
  "language_info": {
   "codemirror_mode": {
    "name": "ipython",
    "version": 3
   },
   "file_extension": ".py",
   "mimetype": "text/x-python",
   "name": "python",
   "nbconvert_exporter": "python",
   "pygments_lexer": "ipython3",
   "version": "3.8.5"
  }
 },
 "nbformat": 4,
 "nbformat_minor": 5
}
